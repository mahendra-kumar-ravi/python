{
 "cells": [
  {
   "cell_type": "markdown",
   "id": "48f9b9d1",
   "metadata": {},
   "source": [
    "## working with OS Module "
   ]
  },
  {
   "cell_type": "code",
   "execution_count": 2,
   "id": "53045bf0",
   "metadata": {},
   "outputs": [],
   "source": [
    "import os "
   ]
  },
  {
   "cell_type": "code",
   "execution_count": 3,
   "id": "4ab8d65b",
   "metadata": {},
   "outputs": [
    {
     "data": {
      "text/plain": [
       "'/media/mahi/Disk Drive/Extra_Skills/Data_analysis/numpy'"
      ]
     },
     "execution_count": 3,
     "metadata": {},
     "output_type": "execute_result"
    }
   ],
   "source": [
    "os.getcwd()"
   ]
  },
  {
   "cell_type": "code",
   "execution_count": 4,
   "id": "04050781",
   "metadata": {},
   "outputs": [
    {
     "data": {
      "text/plain": [
       "['os_modult.ipynb', 'python-numerical-computing-with-numpy.ipynb']"
      ]
     },
     "execution_count": 4,
     "metadata": {},
     "output_type": "execute_result"
    }
   ],
   "source": [
    "os.listdir('.')"
   ]
  },
  {
   "cell_type": "code",
   "execution_count": 6,
   "id": "599bc1c0",
   "metadata": {},
   "outputs": [
    {
     "data": {
      "text/plain": [
       "['os_modult.ipynb', 'python-numerical-computing-with-numpy.ipynb']"
      ]
     },
     "execution_count": 6,
     "metadata": {},
     "output_type": "execute_result"
    }
   ],
   "source": [
    "os.listdir()"
   ]
  },
  {
   "cell_type": "code",
   "execution_count": 13,
   "id": "9c4a5dd5",
   "metadata": {},
   "outputs": [
    {
     "data": {
      "text/plain": [
       "['function.ipynb',\n",
       " 'loops.ipynb',\n",
       " 'practice1.ipynb',\n",
       " 'README.md',\n",
       " 'tweet_analysisi.ipynb']"
      ]
     },
     "execution_count": 13,
     "metadata": {},
     "output_type": "execute_result"
    }
   ],
   "source": [
    "os.listdir('../python_basic')"
   ]
  },
  {
   "cell_type": "code",
   "execution_count": 14,
   "id": "852333ab",
   "metadata": {},
   "outputs": [],
   "source": [
    "os.makedirs('./numpy/data', exist_ok=True)"
   ]
  },
  {
   "cell_type": "code",
   "execution_count": 20,
   "id": "ce6526c4",
   "metadata": {},
   "outputs": [
    {
     "ename": "FileNotFoundError",
     "evalue": "[Errno 2] No such file or directory: './numpy'",
     "output_type": "error",
     "traceback": [
      "\u001b[0;31m---------------------------------------------------------------------------\u001b[0m",
      "\u001b[0;31mFileNotFoundError\u001b[0m                         Traceback (most recent call last)",
      "Cell \u001b[0;32mIn[20], line 2\u001b[0m\n\u001b[1;32m      1\u001b[0m \u001b[38;5;66;03m# os.remove('numpy/data')\u001b[39;00m\n\u001b[0;32m----> 2\u001b[0m \u001b[43mos\u001b[49m\u001b[38;5;241;43m.\u001b[39;49m\u001b[43mrmdir\u001b[49m\u001b[43m(\u001b[49m\u001b[38;5;124;43m'\u001b[39;49m\u001b[38;5;124;43m./numpy\u001b[39;49m\u001b[38;5;124;43m'\u001b[39;49m\u001b[43m)\u001b[49m\n",
      "\u001b[0;31mFileNotFoundError\u001b[0m: [Errno 2] No such file or directory: './numpy'"
     ]
    }
   ],
   "source": [
    "# os.remove('numpy/data') # this will not work \n",
    "os.rmdir('./numpy') # this work perfactly\n"
   ]
  },
  {
   "cell_type": "code",
   "execution_count": 21,
   "id": "0601c74c",
   "metadata": {},
   "outputs": [],
   "source": [
    "url1 ='https://example-files.online-convert.com/document/txt/example.txt'"
   ]
  },
  {
   "cell_type": "code",
   "execution_count": 62,
   "id": "3b8106eb",
   "metadata": {},
   "outputs": [
    {
     "name": "stdout",
     "output_type": "stream",
     "text": [
      "file saved succesfully \n"
     ]
    }
   ],
   "source": [
    "import urllib.request\n",
    "urllib.request.urlretrieve(url1, 'file.txt')\n",
    "print(\"file saved succesfully \")"
   ]
  },
  {
   "cell_type": "code",
   "execution_count": 41,
   "id": "38f60373",
   "metadata": {},
   "outputs": [
    {
     "data": {
      "text/plain": [
       "['file.txt', 'os_modult.ipynb', 'python-numerical-computing-with-numpy.ipynb']"
      ]
     },
     "execution_count": 41,
     "metadata": {},
     "output_type": "execute_result"
    }
   ],
   "source": [
    "os.listdir()"
   ]
  },
  {
   "cell_type": "code",
   "execution_count": 57,
   "id": "48601f82",
   "metadata": {},
   "outputs": [
    {
     "name": "stdout",
     "output_type": "stream",
     "text": [
      "kaise ho \n"
     ]
    }
   ],
   "source": [
    "file2 = open('file.txt', mode = 'r')\n",
    "file2_content = file2.read()\n",
    "print(file2_content)\n",
    "file2.close()"
   ]
  },
  {
   "cell_type": "code",
   "execution_count": 56,
   "id": "bbf877d3",
   "metadata": {},
   "outputs": [
    {
     "name": "stdout",
     "output_type": "stream",
     "text": [
      "9\n"
     ]
    }
   ],
   "source": [
    "file1 = open(\"file.txt\", mode='w')\n",
    "file1_contents = file1.write('kaise ho ')\n",
    "print(file1_contents)\n",
    "file1.close()"
   ]
  },
  {
   "cell_type": "code",
   "execution_count": 54,
   "id": "08330e63",
   "metadata": {},
   "outputs": [
    {
     "name": "stdout",
     "output_type": "stream",
     "text": [
      "kaise ho \n"
     ]
    }
   ],
   "source": [
    "file2 = open('file.txt', mode = 'r')\n",
    "file2_content = file2.read()\n",
    "print(file2_content)\n",
    "file2.close()"
   ]
  },
  {
   "cell_type": "code",
   "execution_count": 63,
   "id": "0676b2a6",
   "metadata": {},
   "outputs": [
    {
     "name": "stdout",
     "output_type": "stream",
     "text": [
      "TXT test file\n",
      "Purpose: Provide example of this file type\n",
      "Document file type: TXT\n",
      "Version: 1.0\n",
      "Remark:\n",
      "\n",
      "Example content:\n",
      "The names \"John Doe\" for males, \"Jane Doe\" or \"Jane Roe\" for females, or \"Jonnie Doe\" and \"Janie Doe\" for children, or just \"Doe\" non-gender-specifically are used as placeholder names for a party whose true identity is unknown or must be withheld in a legal action, case, or discussion. The names are also used to refer to acorpse or hospital patient whose identity is unknown. This practice is widely used in the United States and Canada, but is rarely used in other English-speaking countries including the United Kingdom itself, from where the use of \"John Doe\" in a legal context originates. The names Joe Bloggs or John Smith are used in the UK instead, as well as in Australia and New Zealand.\n",
      "\n",
      "John Doe is sometimes used to refer to a typical male in other contexts as well, in a similar manner to John Q. Public, known in Great Britain as Joe Public, John Smith or Joe Bloggs. For example, the first name listed on a form is often John Doe, along with a fictional address or other fictional information to provide an example of how to fill in the form. The name is also used frequently in popular culture, for example in the Frank Capra film Meet John Doe. John Doe was also the name of a 2002 American television series.\n",
      "\n",
      "Similarly, a child or baby whose identity is unknown may be referred to as Baby Doe. A notorious murder case in Kansas City, Missouri, referred to the baby victim as Precious Doe. Other unidentified female murder victims are Cali Doe and Princess Doe. Additional persons may be called James Doe, Judy Doe, etc. However, to avoid possible confusion, if two anonymous or unknown parties are cited in a specific case or action, the surnames Doe and Roe may be used simultaneously; for example, \"John Doe v. Jane Roe\". If several anonymous parties are referenced, they may simply be labelled John Doe #1, John Doe #2, etc. (the U.S. Operation Delego cited 21 (numbered) \"John Doe\"s) or labelled with other variants of Doe / Roe / Poe / etc. Other early alternatives such as John Stiles and Richard Miles are now rarely used, and Mary Major has been used in some American federal cases.\n",
      "\n",
      "\n",
      "\n",
      "File created by https://www.online-convert.com\n",
      "More example files: https://www.online-convert.com/file-type\n",
      "Text of Example content: Wikipedia (https://en.wikipedia.org/wiki/John_Doe)\n",
      "License: Attribution-ShareAlike 4.0 (https://creativecommons.org/licenses/by-sa/4.0/)\n",
      "\n",
      "Feel free to use and share the file according to the license above.\n"
     ]
    }
   ],
   "source": [
    "# this is automatically open close the file \n",
    "with open('file.txt',mode='r') as file3:\n",
    "    file3_content = file3.read()\n",
    "    print(file3_content)"
   ]
  },
  {
   "cell_type": "code",
   "execution_count": 78,
   "id": "0b5c1a44",
   "metadata": {},
   "outputs": [
    {
     "name": "stdout",
     "output_type": "stream",
     "text": [
      "['TXT test file\\n', 'Purpose: Provide example of this file type\\n', 'Document file type: TXT\\n', 'Version: 1.0\\n', 'Remark:\\n', '\\n', 'Example content:\\n', 'The names \"John Doe\" for males, \"Jane Doe\" or \"Jane Roe\" for females, or \"Jonnie Doe\" and \"Janie Doe\" for children, or just \"Doe\" non-gender-specifically are used as placeholder names for a party whose true identity is unknown or must be withheld in a legal action, case, or discussion. The names are also used to refer to acorpse or hospital patient whose identity is unknown. This practice is widely used in the United States and Canada, but is rarely used in other English-speaking countries including the United Kingdom itself, from where the use of \"John Doe\" in a legal context originates. The names Joe Bloggs or John Smith are used in the UK instead, as well as in Australia and New Zealand.\\n', '\\n', 'John Doe is sometimes used to refer to a typical male in other contexts as well, in a similar manner to John Q. Public, known in Great Britain as Joe Public, John Smith or Joe Bloggs. For example, the first name listed on a form is often John Doe, along with a fictional address or other fictional information to provide an example of how to fill in the form. The name is also used frequently in popular culture, for example in the Frank Capra film Meet John Doe. John Doe was also the name of a 2002 American television series.\\n', '\\n', 'Similarly, a child or baby whose identity is unknown may be referred to as Baby Doe. A notorious murder case in Kansas City, Missouri, referred to the baby victim as Precious Doe. Other unidentified female murder victims are Cali Doe and Princess Doe. Additional persons may be called James Doe, Judy Doe, etc. However, to avoid possible confusion, if two anonymous or unknown parties are cited in a specific case or action, the surnames Doe and Roe may be used simultaneously; for example, \"John Doe v. Jane Roe\". If several anonymous parties are referenced, they may simply be labelled John Doe #1, John Doe #2, etc. (the U.S. Operation Delego cited 21 (numbered) \"John Doe\"s) or labelled with other variants of Doe / Roe / Poe / etc. Other early alternatives such as John Stiles and Richard Miles are now rarely used, and Mary Major has been used in some American federal cases.\\n', '\\n', '\\n', '\\n', 'File created by https://www.online-convert.com\\n', 'More example files: https://www.online-convert.com/file-type\\n', 'Text of Example content: Wikipedia (https://en.wikipedia.org/wiki/John_Doe)\\n', 'License: Attribution-ShareAlike 4.0 (https://creativecommons.org/licenses/by-sa/4.0/)\\n', '\\n', 'Feel free to use and share the file according to the license above.']\n",
      "['TXT test file', 'Purpose: Provide example of this file type', 'Document file type: TXT', 'Version: 1.0', 'Remark:', '', 'Example content:', 'The names \"John Doe\" for males, \"Jane Doe\" or \"Jane Roe\" for females, or \"Jonnie Doe\" and \"Janie Doe\" for children, or just \"Doe\" non-gender-specifically are used as placeholder names for a party whose true identity is unknown or must be withheld in a legal action, case, or discussion. The names are also used to refer to acorpse or hospital patient whose identity is unknown. This practice is widely used in the United States and Canada, but is rarely used in other English-speaking countries including the United Kingdom itself, from where the use of \"John Doe\" in a legal context originates. The names Joe Bloggs or John Smith are used in the UK instead, as well as in Australia and New Zealand.', '', 'John Doe is sometimes used to refer to a typical male in other contexts as well, in a similar manner to John Q. Public, known in Great Britain as Joe Public, John Smith or Joe Bloggs. For example, the first name listed on a form is often John Doe, along with a fictional address or other fictional information to provide an example of how to fill in the form. The name is also used frequently in popular culture, for example in the Frank Capra film Meet John Doe. John Doe was also the name of a 2002 American television series.', '', 'Similarly, a child or baby whose identity is unknown may be referred to as Baby Doe. A notorious murder case in Kansas City, Missouri, referred to the baby victim as Precious Doe. Other unidentified female murder victims are Cali Doe and Princess Doe. Additional persons may be called James Doe, Judy Doe, etc. However, to avoid possible confusion, if two anonymous or unknown parties are cited in a specific case or action, the surnames Doe and Roe may be used simultaneously; for example, \"John Doe v. Jane Roe\". If several anonymous parties are referenced, they may simply be labelled John Doe #1, John Doe #2, etc. (the U.S. Operation Delego cited 21 (numbered) \"John Doe\"s) or labelled with other variants of Doe / Roe / Poe / etc. Other early alternatives such as John Stiles and Richard Miles are now rarely used, and Mary Major has been used in some American federal cases.', '', '', '', 'File created by https://www.online-convert.com', 'More example files: https://www.online-convert.com/file-type', 'Text of Example content: Wikipedia (https://en.wikipedia.org/wiki/John_Doe)', 'License: Attribution-ShareAlike 4.0 (https://creativecommons.org/licenses/by-sa/4.0/)', '', 'Feel free to use and share the file according to the license above.']\n"
     ]
    }
   ],
   "source": [
    "with open ('file.txt',mode='r') as f1:\n",
    "    f1_linebyline = f1.readlines()\n",
    "    print(f1_linebyline)\n",
    "    \n",
    "    f1_strip =[line.strip() for line in f1_linebyline]\n",
    "    print(f1_strip)\n"
   ]
  },
  {
   "cell_type": "code",
   "execution_count": 76,
   "id": "4a0eb366",
   "metadata": {},
   "outputs": [
    {
     "name": "stdout",
     "output_type": "stream",
     "text": [
      "Before strip: ['TXT test file\\n', 'Purpose: Provide example of this file type\\n', 'Document file type: TXT\\n', 'Version: 1.0\\n', 'Remark:\\n', '\\n', 'Example content:\\n', 'The names \"John Doe\" for males, \"Jane Doe\" or \"Jane Roe\" for females, or \"Jonnie Doe\" and \"Janie Doe\" for children, or just \"Doe\" non-gender-specifically are used as placeholder names for a party whose true identity is unknown or must be withheld in a legal action, case, or discussion. The names are also used to refer to acorpse or hospital patient whose identity is unknown. This practice is widely used in the United States and Canada, but is rarely used in other English-speaking countries including the United Kingdom itself, from where the use of \"John Doe\" in a legal context originates. The names Joe Bloggs or John Smith are used in the UK instead, as well as in Australia and New Zealand.\\n', '\\n', 'John Doe is sometimes used to refer to a typical male in other contexts as well, in a similar manner to John Q. Public, known in Great Britain as Joe Public, John Smith or Joe Bloggs. For example, the first name listed on a form is often John Doe, along with a fictional address or other fictional information to provide an example of how to fill in the form. The name is also used frequently in popular culture, for example in the Frank Capra film Meet John Doe. John Doe was also the name of a 2002 American television series.\\n', '\\n', 'Similarly, a child or baby whose identity is unknown may be referred to as Baby Doe. A notorious murder case in Kansas City, Missouri, referred to the baby victim as Precious Doe. Other unidentified female murder victims are Cali Doe and Princess Doe. Additional persons may be called James Doe, Judy Doe, etc. However, to avoid possible confusion, if two anonymous or unknown parties are cited in a specific case or action, the surnames Doe and Roe may be used simultaneously; for example, \"John Doe v. Jane Roe\". If several anonymous parties are referenced, they may simply be labelled John Doe #1, John Doe #2, etc. (the U.S. Operation Delego cited 21 (numbered) \"John Doe\"s) or labelled with other variants of Doe / Roe / Poe / etc. Other early alternatives such as John Stiles and Richard Miles are now rarely used, and Mary Major has been used in some American federal cases.\\n', '\\n', '\\n', '\\n', 'File created by https://www.online-convert.com\\n', 'More example files: https://www.online-convert.com/file-type\\n', 'Text of Example content: Wikipedia (https://en.wikipedia.org/wiki/John_Doe)\\n', 'License: Attribution-ShareAlike 4.0 (https://creativecommons.org/licenses/by-sa/4.0/)\\n', '\\n', 'Feel free to use and share the file according to the license above.']\n",
      "After strip: ['TXT test file', 'Purpose: Provide example of this file type', 'Document file type: TXT', 'Version: 1.0', 'Remark:', '', 'Example content:', 'The names \"John Doe\" for males, \"Jane Doe\" or \"Jane Roe\" for females, or \"Jonnie Doe\" and \"Janie Doe\" for children, or just \"Doe\" non-gender-specifically are used as placeholder names for a party whose true identity is unknown or must be withheld in a legal action, case, or discussion. The names are also used to refer to acorpse or hospital patient whose identity is unknown. This practice is widely used in the United States and Canada, but is rarely used in other English-speaking countries including the United Kingdom itself, from where the use of \"John Doe\" in a legal context originates. The names Joe Bloggs or John Smith are used in the UK instead, as well as in Australia and New Zealand.', '', 'John Doe is sometimes used to refer to a typical male in other contexts as well, in a similar manner to John Q. Public, known in Great Britain as Joe Public, John Smith or Joe Bloggs. For example, the first name listed on a form is often John Doe, along with a fictional address or other fictional information to provide an example of how to fill in the form. The name is also used frequently in popular culture, for example in the Frank Capra film Meet John Doe. John Doe was also the name of a 2002 American television series.', '', 'Similarly, a child or baby whose identity is unknown may be referred to as Baby Doe. A notorious murder case in Kansas City, Missouri, referred to the baby victim as Precious Doe. Other unidentified female murder victims are Cali Doe and Princess Doe. Additional persons may be called James Doe, Judy Doe, etc. However, to avoid possible confusion, if two anonymous or unknown parties are cited in a specific case or action, the surnames Doe and Roe may be used simultaneously; for example, \"John Doe v. Jane Roe\". If several anonymous parties are referenced, they may simply be labelled John Doe #1, John Doe #2, etc. (the U.S. Operation Delego cited 21 (numbered) \"John Doe\"s) or labelled with other variants of Doe / Roe / Poe / etc. Other early alternatives such as John Stiles and Richard Miles are now rarely used, and Mary Major has been used in some American federal cases.', '', '', '', 'File created by https://www.online-convert.com', 'More example files: https://www.online-convert.com/file-type', 'Text of Example content: Wikipedia (https://en.wikipedia.org/wiki/John_Doe)', 'License: Attribution-ShareAlike 4.0 (https://creativecommons.org/licenses/by-sa/4.0/)', '', 'Feel free to use and share the file according to the license above.']\n"
     ]
    }
   ],
   "source": [
    "with open('file.txt', mode='r') as f1:\n",
    "    f1_linebyline = f1.readlines()\n",
    "    print(\"Before strip:\", f1_linebyline)\n",
    "    \n",
    "    f1_strip = [line.strip() for line in f1_linebyline]  # ✅ correct syntax\n",
    "    print(\"After strip:\", f1_strip)\n"
   ]
  },
  {
   "cell_type": "code",
   "execution_count": 89,
   "id": "4341fab8",
   "metadata": {},
   "outputs": [
    {
     "name": "stdout",
     "output_type": "stream",
     "text": [
      "['TXT test file\\n', 'Purpose: Provide example of this file type\\n', 'Document file type: TXT\\n', 'Version: 1.0\\n', 'Remark:\\n', '\\n', 'Example content:\\n', 'The names \"John Doe\" for males, \"Jane Doe\" or \"Jane Roe\" for females, or \"Jonnie Doe\" and \"Janie Doe\" for children, or just \"Doe\" non-gender-specifically are used as placeholder names for a party whose true identity is unknown or must be withheld in a legal action, case, or discussion. The names are also used to refer to acorpse or hospital patient whose identity is unknown. This practice is widely used in the United States and Canada, but is rarely used in other English-speaking countries including the United Kingdom itself, from where the use of \"John Doe\" in a legal context originates. The names Joe Bloggs or John Smith are used in the UK instead, as well as in Australia and New Zealand.\\n', '\\n', 'John Doe is sometimes used to refer to a typical male in other contexts as well, in a similar manner to John Q. Public, known in Great Britain as Joe Public, John Smith or Joe Bloggs. For example, the first name listed on a form is often John Doe, along with a fictional address or other fictional information to provide an example of how to fill in the form. The name is also used frequently in popular culture, for example in the Frank Capra film Meet John Doe. John Doe was also the name of a 2002 American television series.\\n', '\\n', 'Similarly, a child or baby whose identity is unknown may be referred to as Baby Doe. A notorious murder case in Kansas City, Missouri, referred to the baby victim as Precious Doe. Other unidentified female murder victims are Cali Doe and Princess Doe. Additional persons may be called James Doe, Judy Doe, etc. However, to avoid possible confusion, if two anonymous or unknown parties are cited in a specific case or action, the surnames Doe and Roe may be used simultaneously; for example, \"John Doe v. Jane Roe\". If several anonymous parties are referenced, they may simply be labelled John Doe #1, John Doe #2, etc. (the U.S. Operation Delego cited 21 (numbered) \"John Doe\"s) or labelled with other variants of Doe / Roe / Poe / etc. Other early alternatives such as John Stiles and Richard Miles are now rarely used, and Mary Major has been used in some American federal cases.\\n', '\\n', '\\n', '\\n', 'File created by https://www.online-convert.com\\n', 'More example files: https://www.online-convert.com/file-type\\n', 'Text of Example content: Wikipedia (https://en.wikipedia.org/wiki/John_Doe)\\n', 'License: Attribution-ShareAlike 4.0 (https://creativecommons.org/licenses/by-sa/4.0/)\\n', '\\n', 'Feel free to use and share the file according to the license above.']\n",
      "TXT test file\n"
     ]
    }
   ],
   "source": [
    "# single line striped and close \n",
    "f1 = open('file.txt', mode='r')\n",
    "f2_line = f1.readlines()\n",
    "print(f2_line)\n",
    "print(f2_line[0].strip())\n",
    "f1.close()"
   ]
  },
  {
   "cell_type": "code",
   "execution_count": 105,
   "id": "a8d6e5dc",
   "metadata": {},
   "outputs": [
    {
     "data": {
      "text/plain": [
       "'TXT test file\\nPurpose: Provide example of this file type\\nDocument file type: TXT\\nVersion: 1.0\\nRemark:\\n\\nExample content:\\nThe names \"John Doe\" for males, \"Jane Doe\" or \"Jane Roe\" for females, or \"Jonnie Doe\" and \"Janie Doe\" for children, or just \"Doe\" non-gender-specifically are used as placeholder names for a party whose true identity is unknown or must be withheld in a legal action, case, or discussion. The names are also used to refer to acorpse or hospital patient whose identity is unknown. This practice is widely used in the United States and Canada, but is rarely used in other English-speaking countries including the United Kingdom itself, from where the use of \"John Doe\" in a legal context originates. The names Joe Bloggs or John Smith are used in the UK instead, as well as in Australia and New Zealand.\\n\\nJohn Doe is sometimes used to refer to a typical male in other contexts as well, in a similar manner to John Q. Public, known in Great Britain as Joe Public, John Smith or Joe Bloggs. For example, the first name listed on a form is often John Doe, along with a fictional address or other fictional information to provide an example of how to fill in the form. The name is also used frequently in popular culture, for example in the Frank Capra film Meet John Doe. John Doe was also the name of a 2002 American television series.\\n\\nSimilarly, a child or baby whose identity is unknown may be referred to as Baby Doe. A notorious murder case in Kansas City, Missouri, referred to the baby victim as Precious Doe. Other unidentified female murder victims are Cali Doe and Princess Doe. Additional persons may be called James Doe, Judy Doe, etc. However, to avoid possible confusion, if two anonymous or unknown parties are cited in a specific case or action, the surnames Doe and Roe may be used simultaneously; for example, \"John Doe v. Jane Roe\". If several anonymous parties are referenced, they may simply be labelled John Doe #1, John Doe #2, etc. (the U.S. Operation Delego cited 21 (numbered) \"John Doe\"s) or labelled with other variants of Doe / Roe / Poe / etc. Other early alternatives such as John Stiles and Richard Miles are now rarely used, and Mary Major has been used in some American federal cases.\\n\\n\\n\\nFile created by https://www.online-convert.com\\nMore example files: https://www.online-convert.com/file-type\\nText of Example content: Wikipedia (https://en.wikipedia.org/wiki/John_Doe)\\nLicense: Attribution-ShareAlike 4.0 (https://creativecommons.org/licenses/by-sa/4.0/)\\n\\nFeel free to use and share the file according to the license above.'"
      ]
     },
     "execution_count": 105,
     "metadata": {},
     "output_type": "execute_result"
    }
   ],
   "source": [
    "f4 = open('file.txt', mode='r')\n",
    "f4_content = f4.read()\n",
    "# print(f4_content)\n",
    "# f4_content\n",
    "f4_content.strip('\\n')\n",
    "\n",
    "# f4_content.split('\\n')"
   ]
  },
  {
   "cell_type": "code",
   "execution_count": 107,
   "id": "bc325de4",
   "metadata": {},
   "outputs": [],
   "source": [
    "with open('./data/loans3.txt','r') as file3:\n",
    "    file3_lines = file3.readlines()\n"
   ]
  },
  {
   "cell_type": "code",
   "execution_count": 108,
   "id": "cd37d3e0",
   "metadata": {},
   "outputs": [
    {
     "data": {
      "text/plain": [
       "['amount,duration,rate,down_payment\\n',\n",
       " '45230,48,0.07,4300\\n',\n",
       " '883000,16,0.14,\\n',\n",
       " '100000,12,0.1,\\n',\n",
       " '728400,120,0.12,100000\\n',\n",
       " '3637400,240,0.06,\\n',\n",
       " '82900,90,0.07,8900\\n',\n",
       " '316000,16,0.13,\\n',\n",
       " '15230,48,0.08,4300\\n',\n",
       " '991360,99,0.08,\\n',\n",
       " '323000,27,0.09,4720010000,36,0.08,20000\\n',\n",
       " '528400,120,0.11,100000\\n',\n",
       " '8633400,240,0.06,\\n',\n",
       " '12900,90,0.08,8900']"
      ]
     },
     "execution_count": 108,
     "metadata": {},
     "output_type": "execute_result"
    }
   ],
   "source": [
    "file3_lines"
   ]
  },
  {
   "cell_type": "code",
   "execution_count": 112,
   "id": "d0a9020d",
   "metadata": {},
   "outputs": [],
   "source": [
    "def parse_header(headr_line):\n",
    "    return headr_line.strip().split(',')"
   ]
  },
  {
   "cell_type": "code",
   "execution_count": 114,
   "id": "d6502296",
   "metadata": {},
   "outputs": [
    {
     "data": {
      "text/plain": [
       "['amount', 'duration', 'rate', 'down_payment']"
      ]
     },
     "execution_count": 114,
     "metadata": {},
     "output_type": "execute_result"
    }
   ],
   "source": [
    "header = parse_header(file3_lines[0])\n",
    "header"
   ]
  },
  {
   "cell_type": "code",
   "execution_count": null,
   "id": "2e7b315c",
   "metadata": {},
   "outputs": [],
   "source": [
    "with open('./data/loans2.txt', 'r') as file2:\n",
    "    file2_content = file2.readlines() # reading content in list "
   ]
  },
  {
   "cell_type": "code",
   "execution_count": 122,
   "id": "68d0a7fc",
   "metadata": {},
   "outputs": [
    {
     "data": {
      "text/plain": [
       "['amount,duration,rate,down_payment\\n',\n",
       " '828400,120,0.11,100000\\n',\n",
       " '4633400,240,0.06,\\n',\n",
       " '42900,90,0.08,8900\\n',\n",
       " '983000,16,0.14,\\n',\n",
       " '15230,48,0.07,4300']"
      ]
     },
     "execution_count": 122,
     "metadata": {},
     "output_type": "execute_result"
    }
   ],
   "source": [
    "file2_content"
   ]
  },
  {
   "cell_type": "code",
   "execution_count": 125,
   "id": "571bdbcb",
   "metadata": {},
   "outputs": [],
   "source": [
    "header2 = parse_header(file2_content[0])"
   ]
  },
  {
   "cell_type": "code",
   "execution_count": 126,
   "id": "122708f6",
   "metadata": {},
   "outputs": [
    {
     "data": {
      "text/plain": [
       "['amount', 'duration', 'rate', 'down_payment']"
      ]
     },
     "execution_count": 126,
     "metadata": {},
     "output_type": "execute_result"
    }
   ],
   "source": [
    "header2"
   ]
  },
  {
   "cell_type": "code",
   "execution_count": 127,
   "id": "a8d7c2de",
   "metadata": {},
   "outputs": [],
   "source": [
    "# for values "
   ]
  },
  {
   "cell_type": "code",
   "execution_count": null,
   "id": "885a6086",
   "metadata": {},
   "outputs": [],
   "source": [
    "def parse_value(file_data):\n",
    "    values = []\n",
    "    for item in file_data.strip().split(','):\n",
    "        values.append(float(item))\n",
    "    return values"
   ]
  },
  {
   "cell_type": "code",
   "execution_count": 134,
   "id": "7a080c8b",
   "metadata": {},
   "outputs": [
    {
     "data": {
      "text/plain": [
       "'828400,120,0.11,100000\\n'"
      ]
     },
     "execution_count": 134,
     "metadata": {},
     "output_type": "execute_result"
    }
   ],
   "source": [
    "file2_content[1]"
   ]
  },
  {
   "cell_type": "code",
   "execution_count": 136,
   "id": "a5928107",
   "metadata": {},
   "outputs": [
    {
     "data": {
      "text/plain": [
       "[828400.0, 120.0, 0.11, 100000.0]"
      ]
     },
     "execution_count": 136,
     "metadata": {},
     "output_type": "execute_result"
    }
   ],
   "source": [
    "f1_first_line = parse_value(file2_content[1])\n",
    "f1_first_line"
   ]
  },
  {
   "cell_type": "code",
   "execution_count": 142,
   "id": "decc7dc5",
   "metadata": {},
   "outputs": [
    {
     "data": {
      "text/plain": [
       "'4633400,240,0.06,\\n'"
      ]
     },
     "execution_count": 142,
     "metadata": {},
     "output_type": "execute_result"
    }
   ],
   "source": [
    "file2_content[2]\n"
   ]
  },
  {
   "cell_type": "code",
   "execution_count": 143,
   "id": "b1b7435c",
   "metadata": {},
   "outputs": [
    {
     "ename": "ValueError",
     "evalue": "could not convert string to float: ''",
     "output_type": "error",
     "traceback": [
      "\u001b[0;31m---------------------------------------------------------------------------\u001b[0m",
      "\u001b[0;31mValueError\u001b[0m                                Traceback (most recent call last)",
      "Cell \u001b[0;32mIn[143], line 1\u001b[0m\n\u001b[0;32m----> 1\u001b[0m \u001b[43mparse_value\u001b[49m\u001b[43m(\u001b[49m\u001b[43mfile2_content\u001b[49m\u001b[43m[\u001b[49m\u001b[38;5;241;43m2\u001b[39;49m\u001b[43m]\u001b[49m\u001b[43m)\u001b[49m\n",
      "Cell \u001b[0;32mIn[129], line 4\u001b[0m, in \u001b[0;36mparse_value\u001b[0;34m(file2_content)\u001b[0m\n\u001b[1;32m      2\u001b[0m values \u001b[38;5;241m=\u001b[39m []\n\u001b[1;32m      3\u001b[0m \u001b[38;5;28;01mfor\u001b[39;00m item \u001b[38;5;129;01min\u001b[39;00m file2_content\u001b[38;5;241m.\u001b[39mstrip()\u001b[38;5;241m.\u001b[39msplit(\u001b[38;5;124m'\u001b[39m\u001b[38;5;124m,\u001b[39m\u001b[38;5;124m'\u001b[39m):\n\u001b[0;32m----> 4\u001b[0m     values\u001b[38;5;241m.\u001b[39mappend(\u001b[38;5;28;43mfloat\u001b[39;49m\u001b[43m(\u001b[49m\u001b[43mitem\u001b[49m\u001b[43m)\u001b[49m)\n\u001b[1;32m      5\u001b[0m \u001b[38;5;28;01mreturn\u001b[39;00m values\n",
      "\u001b[0;31mValueError\u001b[0m: could not convert string to float: ''"
     ]
    }
   ],
   "source": [
    "parse_value(file2_content[2])"
   ]
  },
  {
   "cell_type": "code",
   "execution_count": 156,
   "id": "06be48c4",
   "metadata": {},
   "outputs": [],
   "source": [
    "# Enhancing the parse value function \n",
    "def parser_values(lines):\n",
    "    values = []\n",
    "    for item in lines.strip().split(',') :\n",
    "        if item == '':\n",
    "            values.append(0.0)\n",
    "        else:\n",
    "            try:\n",
    "                values.append(float(item))\n",
    "            except:\n",
    "                values.append(item)\n",
    "    return values\n"
   ]
  },
  {
   "cell_type": "code",
   "execution_count": 151,
   "id": "08f034e8",
   "metadata": {},
   "outputs": [],
   "source": [
    "with open('./data/loans2.txt', 'r') as file2:\n",
    "    file2_content = file2.readlines() # reading content in list "
   ]
  },
  {
   "cell_type": "code",
   "execution_count": 152,
   "id": "acaf30bc",
   "metadata": {},
   "outputs": [
    {
     "data": {
      "text/plain": [
       "['amount,duration,rate,down_payment\\n',\n",
       " '828400,120,0.11,100000\\n',\n",
       " '4633400,240,0.06,\\n',\n",
       " '42900,90,0.08,8900\\n',\n",
       " '983000,16,0.14,\\n',\n",
       " '15230,48,0.07,4300']"
      ]
     },
     "execution_count": 152,
     "metadata": {},
     "output_type": "execute_result"
    }
   ],
   "source": [
    "file2_content"
   ]
  },
  {
   "cell_type": "code",
   "execution_count": 157,
   "id": "a497293c",
   "metadata": {},
   "outputs": [
    {
     "data": {
      "text/plain": [
       "[4633400.0, 240.0, 0.06, 0.0]"
      ]
     },
     "execution_count": 157,
     "metadata": {},
     "output_type": "execute_result"
    }
   ],
   "source": [
    "parser_values(file2_content[2])"
   ]
  },
  {
   "cell_type": "code",
   "execution_count": 162,
   "id": "4dc37c16",
   "metadata": {},
   "outputs": [
    {
     "name": "stdout",
     "output_type": "stream",
     "text": [
      "('a', 1, 4)\n",
      "('b', 2, 5)\n",
      "('c', 3, 6)\n"
     ]
    }
   ],
   "source": [
    "for item in zip(['a','b','c'],[1,2,3],[4,5,6]):\n",
    "    print(item)"
   ]
  },
  {
   "cell_type": "code",
   "execution_count": 168,
   "id": "16b47964",
   "metadata": {},
   "outputs": [
    {
     "data": {
      "text/plain": [
       "[828400.0, 120.0, 0.11, 100000.0]"
      ]
     },
     "execution_count": 168,
     "metadata": {},
     "output_type": "execute_result"
    }
   ],
   "source": [
    "\n",
    "value1 = parser_values(file2_content[1])\n",
    "value1"
   ]
  },
  {
   "cell_type": "code",
   "execution_count": 169,
   "id": "6344356c",
   "metadata": {},
   "outputs": [
    {
     "data": {
      "text/plain": [
       "['amount', 'duration', 'rate', 'down_payment']"
      ]
     },
     "execution_count": 169,
     "metadata": {},
     "output_type": "execute_result"
    }
   ],
   "source": [
    "header"
   ]
  },
  {
   "cell_type": "code",
   "execution_count": 180,
   "id": "e6b2ef9b",
   "metadata": {},
   "outputs": [],
   "source": [
    "def create_item_dict(header, value):\n",
    "    result = {}\n",
    "    for header,value in zip(header,value):\n",
    "        result[header] = value\n",
    "\n",
    "    return result\n",
    "\n"
   ]
  },
  {
   "cell_type": "code",
   "execution_count": 181,
   "id": "a33621f2",
   "metadata": {},
   "outputs": [
    {
     "data": {
      "text/plain": [
       "([828400.0, 120.0, 0.11, 100000.0],\n",
       " ['amount', 'duration', 'rate', 'down_payment'])"
      ]
     },
     "execution_count": 181,
     "metadata": {},
     "output_type": "execute_result"
    }
   ],
   "source": [
    "values1 = parser_values(file3_lines[1])\n",
    "value1, header\n"
   ]
  },
  {
   "cell_type": "code",
   "execution_count": 182,
   "id": "67a53ea9",
   "metadata": {},
   "outputs": [
    {
     "data": {
      "text/plain": [
       "{'amount': 828400.0, 'duration': 120.0, 'rate': 0.11, 'down_payment': 100000.0}"
      ]
     },
     "execution_count": 182,
     "metadata": {},
     "output_type": "execute_result"
    }
   ],
   "source": [
    "create_item_dict(header, value1)"
   ]
  },
  {
   "cell_type": "code",
   "execution_count": 200,
   "id": "2745c096",
   "metadata": {},
   "outputs": [],
   "source": [
    "def read_csv(path):\n",
    "    result = []\n",
    "    with open(path, mode='r') as f:\n",
    "        line = f.readlines()\n",
    "        header = parse_header(line[0])\n",
    "        for data_line in line[1:]:\n",
    "            value = parser_values(data_line)\n",
    "            item_dict = create_item_dict( header, value)\n",
    "            result.append(item_dict)\n",
    "        return result\n",
    "    \n",
    "\n"
   ]
  },
  {
   "cell_type": "code",
   "execution_count": 194,
   "id": "29835401",
   "metadata": {},
   "outputs": [
    {
     "name": "stdout",
     "output_type": "stream",
     "text": [
      "amount,duration,rate,down_payment\n",
      "828400,120,0.11,100000\n",
      "4633400,240,0.06,\n",
      "42900,90,0.08,8900\n",
      "983000,16,0.14,\n",
      "15230,48,0.07,4300\n"
     ]
    }
   ],
   "source": [
    "with open('./data/loans2.txt') as file2:\n",
    "    print(file2.read())"
   ]
  },
  {
   "cell_type": "code",
   "execution_count": 201,
   "id": "91a6f1e3",
   "metadata": {},
   "outputs": [
    {
     "data": {
      "text/plain": [
       "[{'amount': 828400.0,\n",
       "  'duration': 120.0,\n",
       "  'rate': 0.11,\n",
       "  'down_payment': 100000.0},\n",
       " {'amount': 4633400.0, 'duration': 240.0, 'rate': 0.06, 'down_payment': 0.0},\n",
       " {'amount': 42900.0, 'duration': 90.0, 'rate': 0.08, 'down_payment': 8900.0},\n",
       " {'amount': 983000.0, 'duration': 16.0, 'rate': 0.14, 'down_payment': 0.0},\n",
       " {'amount': 15230.0, 'duration': 48.0, 'rate': 0.07, 'down_payment': 4300.0}]"
      ]
     },
     "execution_count": 201,
     "metadata": {},
     "output_type": "execute_result"
    }
   ],
   "source": [
    "\n",
    "dictniory = read_csv('./data/loans2.txt')\n",
    "dictniory"
   ]
  },
  {
   "cell_type": "markdown",
   "id": "702e8c48",
   "metadata": {},
   "source": []
  },
  {
   "cell_type": "code",
   "execution_count": null,
   "id": "63854c1a",
   "metadata": {},
   "outputs": [],
   "source": []
  }
 ],
 "metadata": {
  "kernelspec": {
   "display_name": "Python 3",
   "language": "python",
   "name": "python3"
  },
  "language_info": {
   "codemirror_mode": {
    "name": "ipython",
    "version": 3
   },
   "file_extension": ".py",
   "mimetype": "text/x-python",
   "name": "python",
   "nbconvert_exporter": "python",
   "pygments_lexer": "ipython3",
   "version": "3.12.3"
  }
 },
 "nbformat": 4,
 "nbformat_minor": 5
}

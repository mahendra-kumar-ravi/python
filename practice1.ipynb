{
 "cells": [
  {
   "cell_type": "code",
   "execution_count": 1,
   "metadata": {},
   "outputs": [
    {
     "data": {
      "text/plain": [
       "8"
      ]
     },
     "execution_count": 1,
     "metadata": {},
     "output_type": "execute_result"
    }
   ],
   "source": [
    "3+5"
   ]
  },
  {
   "cell_type": "markdown",
   "metadata": {},
   "source": [
    "# Branching if else ifelse\n"
   ]
  },
  {
   "cell_type": "code",
   "execution_count": 2,
   "metadata": {},
   "outputs": [
    {
     "name": "stdout",
     "output_type": "stream",
     "text": [
      "Even\n"
     ]
    }
   ],
   "source": [
    "nu = 34 \n",
    "if nu %2 ==0:\n",
    "    print(\"Even\")\n",
    "else :\n",
    "    print(\"Odd\")"
   ]
  },
  {
   "cell_type": "code",
   "execution_count": 12,
   "metadata": {},
   "outputs": [
    {
     "name": "stdout",
     "output_type": "stream",
     "text": [
      "the Number 8 is Even \n"
     ]
    }
   ],
   "source": [
    "num =8\n",
    "if(num%2 == 0):\n",
    "    print(\"the Number {} is Even \".format(num))\n",
    "\n",
    "else:\n",
    "    print(\"the Number {} is Odd \".format(num))\n",
    "\n"
   ]
  },
  {
   "cell_type": "code",
   "execution_count": 22,
   "metadata": {},
   "outputs": [
    {
     "name": "stdout",
     "output_type": "stream",
     "text": [
      "ram is not in the tuple \n"
     ]
    }
   ],
   "source": [
    "candidate = ('ravi', \"mohan\",'shyam' )\n",
    "name = 'ram'\n",
    "\n",
    "if name in candidate:\n",
    "    print(\"{} is in the tuple \".format(name))\n",
    "else :\n",
    "     print(\"{} is not in the tuple \".format(name))\n",
    "    "
   ]
  },
  {
   "cell_type": "code",
   "execution_count": 23,
   "metadata": {},
   "outputs": [
    {
     "name": "stdout",
     "output_type": "stream",
     "text": [
      "Its have values \n"
     ]
    }
   ],
   "source": [
    "if candidate:\n",
    "    print(\"Its have values \")\n",
    "else:\n",
    "    print('Dont have values')"
   ]
  },
  {
   "cell_type": "code",
   "execution_count": 25,
   "metadata": {},
   "outputs": [
    {
     "name": "stdout",
     "output_type": "stream",
     "text": [
      "it is multiple of two and theree\n"
     ]
    }
   ],
   "source": [
    "num = 6\n",
    "if(num%2 == 0):\n",
    "    if(num%3==0):\n",
    "        print(\"it is multiple of two and theree\")"
   ]
  },
  {
   "cell_type": "code",
   "execution_count": 28,
   "metadata": {},
   "outputs": [
    {
     "name": "stdout",
     "output_type": "stream",
     "text": [
      "the 15 is odd\n"
     ]
    }
   ],
   "source": [
    "num = 15 \n",
    "if num%2 == 0:\n",
    "    parity = \"even\"\n",
    "\n",
    "else:\n",
    "    parity = 'odd'\n",
    "\n",
    "    print(\"the {} is {}\".format(num,parity))"
   ]
  },
  {
   "cell_type": "code",
   "execution_count": 30,
   "metadata": {},
   "outputs": [
    {
     "name": "stdout",
     "output_type": "stream",
     "text": [
      "Here we completed our Branching statement s \n"
     ]
    }
   ],
   "source": [
    "print(\"Here we completed our Branching statement s \")"
   ]
  },
  {
   "cell_type": "code",
   "execution_count": null,
   "metadata": {},
   "outputs": [],
   "source": []
  }
 ],
 "metadata": {
  "kernelspec": {
   "display_name": "Python 3",
   "language": "python",
   "name": "python3"
  },
  "language_info": {
   "codemirror_mode": {
    "name": "ipython",
    "version": 3
   },
   "file_extension": ".py",
   "mimetype": "text/x-python",
   "name": "python",
   "nbconvert_exporter": "python",
   "pygments_lexer": "ipython3",
   "version": "3.12.3"
  }
 },
 "nbformat": 4,
 "nbformat_minor": 2
}

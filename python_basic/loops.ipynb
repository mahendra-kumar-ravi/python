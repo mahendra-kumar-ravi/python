{
 "cells": [
  {
   "cell_type": "markdown",
   "metadata": {},
   "source": [
    "\n",
    "# looping or iterator"
   ]
  },
  {
   "cell_type": "code",
   "execution_count": 6,
   "metadata": {},
   "outputs": [
    {
     "name": "stdout",
     "output_type": "stream",
     "text": [
      "the Factorial of a number is 120\n"
     ]
    }
   ],
   "source": [
    "result = 1\n",
    "\n",
    "i = 1 \n",
    "while i<=5:\n",
    "    result = result* i\n",
    "    i = i+1\n",
    "\n",
    "print(\"the Factorial of a number is {}\".format(result) )\n"
   ]
  },
  {
   "cell_type": "code",
   "execution_count": 19,
   "metadata": {},
   "outputs": [
    {
     "name": "stdout",
     "output_type": "stream",
     "text": [
      "* * * * * \n",
      "* * * * \n",
      "* * * \n",
      "* * \n",
      "* \n"
     ]
    }
   ],
   "source": [
    "for i in range (0,5):\n",
    "    for j in range (i,5):\n",
    "        print(\"*\", end=\" \")\n",
    "    print()"
   ]
  },
  {
   "cell_type": "code",
   "execution_count": 27,
   "metadata": {},
   "outputs": [
    {
     "name": "stdout",
     "output_type": "stream",
     "text": [
      "magical number is 10 Reached ! Stop execution...\n",
      "i :  10\n",
      "result :  3628800\n"
     ]
    }
   ],
   "source": [
    "i = 1 \n",
    "result = 1\n",
    "while i<100:\n",
    "    result = result * i\n",
    "    if i ==10:\n",
    "        print(\"magical number is 10 Reached ! Stop execution...\")\n",
    "        break\n",
    "    i = i+1\n",
    "    \n",
    "\n",
    "print('i : ',i)\n",
    "print(\"result : \", result)"
   ]
  },
  {
   "cell_type": "markdown",
   "metadata": {},
   "source": [
    "### for loop "
   ]
  },
  {
   "cell_type": "code",
   "execution_count": 31,
   "metadata": {},
   "outputs": [
    {
     "name": "stdout",
     "output_type": "stream",
     "text": [
      "moday\n",
      "tuesday\n",
      "wednesday\n",
      "thurday\n",
      "friday\n"
     ]
    }
   ],
   "source": [
    "days = ['moday','tuesday','wednesday', 'thurday','friday']\n",
    "\n",
    "for day in days:\n",
    "    print(day)"
   ]
  },
  {
   "cell_type": "code",
   "execution_count": 36,
   "metadata": {},
   "outputs": [
    {
     "name": "stdout",
     "output_type": "stream",
     "text": [
      "rahul\n",
      "male\n",
      "23\n",
      "True\n"
     ]
    }
   ],
   "source": [
    "person = {\n",
    "    'name' : 'rahul',\n",
    "    'sex' :'male',\n",
    "    'age' : 23,\n",
    "    'marride' : True\n",
    "}\n",
    "\n",
    "for key in person:\n",
    "    # print(key)\n",
    "    print(person[key])"
   ]
  },
  {
   "cell_type": "code",
   "execution_count": 38,
   "metadata": {},
   "outputs": [
    {
     "name": "stdout",
     "output_type": "stream",
     "text": [
      "rahul\n",
      "male\n",
      "23\n",
      "True\n"
     ]
    }
   ],
   "source": [
    "for value in person.values() :\n",
    "   print(value)"
   ]
  },
  {
   "cell_type": "code",
   "execution_count": 39,
   "metadata": {},
   "outputs": [
    {
     "name": "stdout",
     "output_type": "stream",
     "text": [
      "rahul\n",
      "male\n",
      "23\n",
      "True\n"
     ]
    }
   ],
   "source": [
    "for i in person :\n",
    "    print(person[i])"
   ]
  },
  {
   "cell_type": "code",
   "execution_count": 41,
   "metadata": {},
   "outputs": [
    {
     "name": "stdout",
     "output_type": "stream",
     "text": [
      "name rahul\n",
      "sex male\n",
      "age 23\n",
      "marride True\n"
     ]
    }
   ],
   "source": [
    "for key,value in person.items():\n",
    "    print(key,value)"
   ]
  },
  {
   "cell_type": "code",
   "execution_count": 44,
   "metadata": {},
   "outputs": [
    {
     "name": "stdout",
     "output_type": "stream",
     "text": [
      "0\n",
      "1\n",
      "2\n",
      "3\n",
      "4\n",
      "5\n"
     ]
    }
   ],
   "source": [
    "for i in range (6):\n",
    "    print(i)"
   ]
  },
  {
   "cell_type": "code",
   "execution_count": 46,
   "metadata": {},
   "outputs": [
    {
     "name": "stdout",
     "output_type": "stream",
     "text": [
      "4\n",
      "5\n",
      "6\n",
      "7\n",
      "8\n",
      "9\n"
     ]
    }
   ],
   "source": [
    "for i in range (4,10):\n",
    "    print(i)"
   ]
  },
  {
   "cell_type": "code",
   "execution_count": 47,
   "metadata": {},
   "outputs": [
    {
     "name": "stdout",
     "output_type": "stream",
     "text": [
      "3\n",
      "6\n",
      "9\n",
      "12\n"
     ]
    }
   ],
   "source": [
    "for i in range (3,13,3):\n",
    "    print(i)"
   ]
  },
  {
   "cell_type": "code",
   "execution_count": 48,
   "metadata": {},
   "outputs": [
    {
     "name": "stdout",
     "output_type": "stream",
     "text": [
      "The value at position 0 is Monday.\n",
      "The value at position 1 is tuesday.\n",
      "The value at position 2 is Wednesday.\n",
      "The value at position 3 is Thursady.\n",
      "The value at position 4 is friday.\n"
     ]
    }
   ],
   "source": [
    "list= ['Monday','tuesday','Wednesday','Thursady','friday']\n",
    "for i in range(len(list)):\n",
    "    print(\"The value at position {} is {}.\".format(i, list[i]))"
   ]
  },
  {
   "cell_type": "code",
   "execution_count": 49,
   "metadata": {},
   "outputs": [
    {
     "name": "stdout",
     "output_type": "stream",
     "text": [
      "Monday\n",
      "Wednesday\n",
      "Thursady\n",
      "friday\n"
     ]
    }
   ],
   "source": [
    "for day in list:\n",
    "    if (day == \"tuesday\"):\n",
    "        continue\n",
    "    print(day)"
   ]
  },
  {
   "cell_type": "code",
   "execution_count": 50,
   "metadata": {},
   "outputs": [],
   "source": [
    "for day in list:\n",
    "    pass"
   ]
  },
  {
   "cell_type": "code",
   "execution_count": null,
   "metadata": {},
   "outputs": [],
   "source": []
  }
 ],
 "metadata": {
  "kernelspec": {
   "display_name": "Python 3",
   "language": "python",
   "name": "python3"
  },
  "language_info": {
   "codemirror_mode": {
    "name": "ipython",
    "version": 3
   },
   "file_extension": ".py",
   "mimetype": "text/x-python",
   "name": "python",
   "nbconvert_exporter": "python",
   "pygments_lexer": "ipython3",
   "version": "3.12.3"
  }
 },
 "nbformat": 4,
 "nbformat_minor": 2
}

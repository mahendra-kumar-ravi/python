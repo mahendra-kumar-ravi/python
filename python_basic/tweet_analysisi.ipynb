{
 "cells": [
  {
   "cell_type": "markdown",
   "metadata": {},
   "source": [
    "# Tweet analysis"
   ]
  },
  {
   "cell_type": "code",
   "execution_count": 71,
   "metadata": {},
   "outputs": [],
   "source": [
    "tweets = [\n",
    "    \"Wow, what a great day today!! #sunshine\",\n",
    "    \"I feel sad about the things going on around us. #covid19\",\n",
    "    \"I'm really excited to learn Python with @JovianML #zerotopandas\",\n",
    "    \"This is a really nice song. #linkinpark\",\n",
    "    \"The python programming language is useful for data science\",\n",
    "    \"Why do bad things happen to me?\",\n",
    "    \"Apple announces the release of the new iPhone 12. Fans are excited.\",\n",
    "    \"Spent my day with family!! #happy\",\n",
    "    \"Check out my blog post on common string operations in Python. #zerotopandas\",\n",
    "    \"Freecodecamp has great coding tutorials. #skillup\"\n",
    "]"
   ]
  },
  {
   "cell_type": "code",
   "execution_count": 72,
   "metadata": {},
   "outputs": [
    {
     "name": "stdout",
     "output_type": "stream",
     "text": [
      "10\n"
     ]
    }
   ],
   "source": [
    "no_of_tweets = len(tweets)\n",
    "print(no_of_tweets)"
   ]
  },
  {
   "cell_type": "code",
   "execution_count": 73,
   "metadata": {},
   "outputs": [],
   "source": [
    "happy_words = ['great', 'excited', 'happy', 'nice', 'wonderful', 'amazing', 'good', 'best']"
   ]
  },
  {
   "cell_type": "code",
   "execution_count": 74,
   "metadata": {},
   "outputs": [],
   "source": [
    "sad_words = ['sad', 'bad', 'tragic', 'unhappy', 'worst']"
   ]
  },
  {
   "cell_type": "code",
   "execution_count": 75,
   "metadata": {},
   "outputs": [],
   "source": [
    "sample_tweet = tweets[0]"
   ]
  },
  {
   "cell_type": "code",
   "execution_count": 76,
   "metadata": {},
   "outputs": [
    {
     "data": {
      "text/plain": [
       "'Wow, what a great day today!! #sunshine'"
      ]
     },
     "execution_count": 76,
     "metadata": {},
     "output_type": "execute_result"
    }
   ],
   "source": [
    "sample_tweet"
   ]
  },
  {
   "cell_type": "code",
   "execution_count": 77,
   "metadata": {},
   "outputs": [
    {
     "name": "stdout",
     "output_type": "stream",
     "text": [
      "True\n"
     ]
    }
   ],
   "source": [
    "is_tweet_happy = False\n",
    "\n",
    "for words in happy_words:\n",
    "    if words in sample_tweet:\n",
    "        is_tweet_happy = True\n",
    "\n",
    "print(is_tweet_happy)"
   ]
  },
  {
   "cell_type": "code",
   "execution_count": 78,
   "metadata": {},
   "outputs": [],
   "source": [
    "def happy_frunction(tweets,happy_words):\n",
    "    no_of_happy_tweets = 0\n",
    "    for tweet in tweets:\n",
    "        for word in happy_words:\n",
    "            if word in tweet:\n",
    "                no_of_happy_tweets+=1\n",
    "\n",
    "    no_of_tweets = len(tweets)\n",
    "    happiness_index = no_of_happy_tweets/no_of_tweets\n",
    "            \n",
    "    return happiness_index"
   ]
  },
  {
   "cell_type": "code",
   "execution_count": 79,
   "metadata": {},
   "outputs": [
    {
     "name": "stdout",
     "output_type": "stream",
     "text": [
      "0.6\n"
     ]
    }
   ],
   "source": [
    "try:\n",
    "    happy_frunction = happy_frunction(tweets,happy_words)\n",
    "    print(happy_frunction)\n",
    "\n",
    "except TypeError as t:\n",
    "    print(\"Error occured which is {}\".format(t))\n"
   ]
  },
  {
   "cell_type": "code",
   "execution_count": 84,
   "metadata": {},
   "outputs": [],
   "source": [
    "def sad_frunction(tweets,sad_words):\n",
    "    no_of_sad_tweets = 0\n",
    "    for tweet in tweets:\n",
    "        for word in sad_words:\n",
    "            if word in tweet:\n",
    "                no_of_sad_tweets+=1\n",
    "\n",
    "    no_of_tweets = len(tweets)\n",
    "    sad_index = no_of_sad_tweets/no_of_tweets\n",
    "            \n",
    "    return sad_index"
   ]
  },
  {
   "cell_type": "code",
   "execution_count": 85,
   "metadata": {},
   "outputs": [
    {
     "name": "stdout",
     "output_type": "stream",
     "text": [
      "0.2\n"
     ]
    }
   ],
   "source": [
    "try: \n",
    "    sad_runction = sad_frunction(tweets,sad_words)\n",
    "    print(sad_runction)\n",
    "except ValueError as v:\n",
    "    print(\"Error occured which is {}\".format(v))\n"
   ]
  }
 ],
 "metadata": {
  "kernelspec": {
   "display_name": "Python 3",
   "language": "python",
   "name": "python3"
  },
  "language_info": {
   "codemirror_mode": {
    "name": "ipython",
    "version": 3
   },
   "file_extension": ".py",
   "mimetype": "text/x-python",
   "name": "python",
   "nbconvert_exporter": "python",
   "pygments_lexer": "ipython3",
   "version": "3.12.3"
  }
 },
 "nbformat": 4,
 "nbformat_minor": 2
}
